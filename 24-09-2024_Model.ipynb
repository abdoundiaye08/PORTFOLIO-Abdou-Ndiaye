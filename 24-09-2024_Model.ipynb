{
 "cells": [
  {
   "cell_type": "markdown",
   "id": "633cf4fe-dab7-4726-816f-da6ba93ebcd5",
   "metadata": {},
   "source": [
    "# Étape 1 : Préparation des données\n",
    "Le LSTM nécessite des données sous forme de séquences temporelles. Voici comment nous allons préparer ces données :\n",
    "\n",
    "## 1.1. Importation des bibliothèques nécessaires et chargement des données"
   ]
  },
  {
   "cell_type": "code",
   "execution_count": 32,
   "id": "d9a62550-962f-4997-88d3-d965600db579",
   "metadata": {},
   "outputs": [
    {
     "name": "stdout",
     "output_type": "stream",
     "text": [
      "   temperature        ph  turbidite         tds  oxygene_dissoute  \\\n",
      "0    27.483571  6.660753   1.104486  301.942803          7.528142   \n",
      "1    24.308678  6.847250   1.084997  394.501435          9.012702   \n",
      "2    28.238443  6.701309   0.719044  441.297159          7.801813   \n",
      "3    32.615149  7.055209   1.173875  514.966891          8.090569   \n",
      "4    23.829233  7.598589   0.552975  602.416233          8.717391   \n",
      "\n",
      "   conductivite  \n",
      "0   1529.461844  \n",
      "1   1480.767531  \n",
      "2   1785.537227  \n",
      "3   1959.849342  \n",
      "4   1706.054083  \n"
     ]
    }
   ],
   "source": [
    "import numpy as np\n",
    "import pandas as pd\n",
    "from sklearn.preprocessing import MinMaxScaler\n",
    "from tensorflow.keras.models import Sequential\n",
    "from tensorflow.keras.layers import LSTM, Dense, Dropout\n",
    "from sklearn.model_selection import train_test_split\n",
    "import matplotlib.pyplot as plt\n",
    "\n",
    "# Chargement des données\n",
    "df = pd.read_csv('sensor_data_with_anomalies.csv')\n",
    "\n",
    "# Afficher un échantillon des données\n",
    "print(df.head())"
   ]
  },
  {
   "cell_type": "markdown",
   "id": "ea08794a-7154-4bc6-a4f3-d2707c4c3b02",
   "metadata": {},
   "source": [
    "## 1.2. Normalisation des données\n",
    "Nous devons normaliser les données pour que les valeurs se situent dans une plage entre 0 et 1, ce qui aide l'algorithme LSTM à mieux apprendre."
   ]
  },
  {
   "cell_type": "code",
   "execution_count": 34,
   "id": "63cfc5d8-431e-4b12-9a37-3f2de2df7a20",
   "metadata": {},
   "outputs": [
    {
     "name": "stdout",
     "output_type": "stream",
     "text": [
      "(10000, 6)\n"
     ]
    }
   ],
   "source": [
    "# Normalisation des données entre 0 et 1\n",
    "scaler = MinMaxScaler()\n",
    "scaled_data = scaler.fit_transform(df)\n",
    "\n",
    "# Vérification de la forme des données normalisées\n",
    "print(scaled_data.shape)"
   ]
  },
  {
   "cell_type": "markdown",
   "id": "5cae6579-7acb-4b99-93b1-81e90e3e2401",
   "metadata": {},
   "source": [
    "### scaled_data.shape retourne (10000, 6), ce qui signifie que :\n",
    "### Il y a **10 000 lignes** de données dans votre DataFrame.\n",
    "### Il y a **6 colonnes** , correspondant aux capteurs : température, pH, turbidité, TDS, oxygène dissous, conductivité."
   ]
  },
  {
   "cell_type": "markdown",
   "id": "103eabd4-6969-43e7-9625-0ceb3e1911c0",
   "metadata": {},
   "source": [
    "## 1.3. Transformation des données en séquences\n",
    "Pour LSTM, nous devons diviser nos données en fenêtres de séquences temporelles. Par exemple, si nous utilisons une fenêtre de 50, le modèle prendra en compte les 50 précédentes observations pour prédire la suivante."
   ]
  },
  {
   "cell_type": "code",
   "execution_count": 36,
   "id": "dadde667-8dc6-47f7-bf22-cd50b895541f",
   "metadata": {},
   "outputs": [
    {
     "name": "stdout",
     "output_type": "stream",
     "text": [
      "(7992, 10, 6) (7992, 6)\n"
     ]
    }
   ],
   "source": [
    "# Fonction pour créer des séquences avec une fenêtre\n",
    "def create_sequences(data, sequence_length):\n",
    "    sequences = []\n",
    "    labels = []\n",
    "    for i in range(len(data) - sequence_length):\n",
    "        seq = data[i:i+sequence_length]\n",
    "        label = data[i+sequence_length]  # Label est la valeur suivante\n",
    "        sequences.append(seq)\n",
    "        labels.append(label)\n",
    "    \n",
    "    return np.array(sequences), np.array(labels)\n",
    "\n",
    "# Définir la longueur de la séquence \n",
    "sequence_length = 10\n",
    "X, y = create_sequences(scaled_data, sequence_length)\n",
    "\n",
    "# Diviser en ensembles d'entraînement et de test\n",
    "X_train, X_test, y_train, y_test = train_test_split(X, y, test_size=0.2, random_state=42)\n",
    "\n",
    "# Vérification des formes après transformation\n",
    "print(X_train.shape, y_train.shape)\n"
   ]
  },
  {
   "cell_type": "markdown",
   "id": "27e5c104-5190-4fcf-9282-da2689e4cc39",
   "metadata": {},
   "source": [
    "# X_train.shape : (7992, 10, 6)\n",
    "### **7992** : Il y a 7 992 séquences dans l'ensemble d'entraînement.\n",
    "### **10** : Chaque séquence contient 10 observations temporelles.\n",
    "### **6** : Chaque observation contient 6 valeurs, correspondant aux 6 capteurs (température, pH, turbidité, etc.)."
   ]
  },
  {
   "cell_type": "markdown",
   "id": "de191233-1e2d-4e05-a41b-2d6847265b95",
   "metadata": {},
   "source": [
    "# Étape 2 : Création du modèle LSTM\n",
    "\n",
    "## 2.1. Définir l'architecture du modèle\n",
    "Nous allons construire un modèle LSTM avec quelques couches LSTM, de dropout pour éviter le surapprentissage, et une couche de sortie dense."
   ]
  },
  {
   "cell_type": "code",
   "execution_count": 38,
   "id": "28101474-4168-47c7-a50d-0f81d57cb167",
   "metadata": {},
   "outputs": [
    {
     "name": "stderr",
     "output_type": "stream",
     "text": [
      "C:\\Users\\HP\\anaconda3\\Lib\\site-packages\\keras\\src\\layers\\rnn\\rnn.py:204: UserWarning: Do not pass an `input_shape`/`input_dim` argument to a layer. When using Sequential models, prefer using an `Input(shape)` object as the first layer in the model instead.\n",
      "  super().__init__(**kwargs)\n"
     ]
    },
    {
     "data": {
      "text/html": [
       "<pre style=\"white-space:pre;overflow-x:auto;line-height:normal;font-family:Menlo,'DejaVu Sans Mono',consolas,'Courier New',monospace\"><span style=\"font-weight: bold\">Model: \"sequential_1\"</span>\n",
       "</pre>\n"
      ],
      "text/plain": [
       "\u001b[1mModel: \"sequential_1\"\u001b[0m\n"
      ]
     },
     "metadata": {},
     "output_type": "display_data"
    },
    {
     "data": {
      "text/html": [
       "<pre style=\"white-space:pre;overflow-x:auto;line-height:normal;font-family:Menlo,'DejaVu Sans Mono',consolas,'Courier New',monospace\">┏━━━━━━━━━━━━━━━━━━━━━━━━━━━━━━━━━━━━━━┳━━━━━━━━━━━━━━━━━━━━━━━━━━━━━┳━━━━━━━━━━━━━━━━━┓\n",
       "┃<span style=\"font-weight: bold\"> Layer (type)                         </span>┃<span style=\"font-weight: bold\"> Output Shape                </span>┃<span style=\"font-weight: bold\">         Param # </span>┃\n",
       "┡━━━━━━━━━━━━━━━━━━━━━━━━━━━━━━━━━━━━━━╇━━━━━━━━━━━━━━━━━━━━━━━━━━━━━╇━━━━━━━━━━━━━━━━━┩\n",
       "│ lstm_2 (<span style=\"color: #0087ff; text-decoration-color: #0087ff\">LSTM</span>)                        │ (<span style=\"color: #00d7ff; text-decoration-color: #00d7ff\">None</span>, <span style=\"color: #00af00; text-decoration-color: #00af00\">10</span>, <span style=\"color: #00af00; text-decoration-color: #00af00\">64</span>)              │          <span style=\"color: #00af00; text-decoration-color: #00af00\">18,176</span> │\n",
       "├──────────────────────────────────────┼─────────────────────────────┼─────────────────┤\n",
       "│ dropout_2 (<span style=\"color: #0087ff; text-decoration-color: #0087ff\">Dropout</span>)                  │ (<span style=\"color: #00d7ff; text-decoration-color: #00d7ff\">None</span>, <span style=\"color: #00af00; text-decoration-color: #00af00\">10</span>, <span style=\"color: #00af00; text-decoration-color: #00af00\">64</span>)              │               <span style=\"color: #00af00; text-decoration-color: #00af00\">0</span> │\n",
       "├──────────────────────────────────────┼─────────────────────────────┼─────────────────┤\n",
       "│ lstm_3 (<span style=\"color: #0087ff; text-decoration-color: #0087ff\">LSTM</span>)                        │ (<span style=\"color: #00d7ff; text-decoration-color: #00d7ff\">None</span>, <span style=\"color: #00af00; text-decoration-color: #00af00\">50</span>)                  │          <span style=\"color: #00af00; text-decoration-color: #00af00\">23,000</span> │\n",
       "├──────────────────────────────────────┼─────────────────────────────┼─────────────────┤\n",
       "│ dropout_3 (<span style=\"color: #0087ff; text-decoration-color: #0087ff\">Dropout</span>)                  │ (<span style=\"color: #00d7ff; text-decoration-color: #00d7ff\">None</span>, <span style=\"color: #00af00; text-decoration-color: #00af00\">50</span>)                  │               <span style=\"color: #00af00; text-decoration-color: #00af00\">0</span> │\n",
       "├──────────────────────────────────────┼─────────────────────────────┼─────────────────┤\n",
       "│ dense_1 (<span style=\"color: #0087ff; text-decoration-color: #0087ff\">Dense</span>)                      │ (<span style=\"color: #00d7ff; text-decoration-color: #00d7ff\">None</span>, <span style=\"color: #00af00; text-decoration-color: #00af00\">6</span>)                   │             <span style=\"color: #00af00; text-decoration-color: #00af00\">306</span> │\n",
       "└──────────────────────────────────────┴─────────────────────────────┴─────────────────┘\n",
       "</pre>\n"
      ],
      "text/plain": [
       "┏━━━━━━━━━━━━━━━━━━━━━━━━━━━━━━━━━━━━━━┳━━━━━━━━━━━━━━━━━━━━━━━━━━━━━┳━━━━━━━━━━━━━━━━━┓\n",
       "┃\u001b[1m \u001b[0m\u001b[1mLayer (type)                        \u001b[0m\u001b[1m \u001b[0m┃\u001b[1m \u001b[0m\u001b[1mOutput Shape               \u001b[0m\u001b[1m \u001b[0m┃\u001b[1m \u001b[0m\u001b[1m        Param #\u001b[0m\u001b[1m \u001b[0m┃\n",
       "┡━━━━━━━━━━━━━━━━━━━━━━━━━━━━━━━━━━━━━━╇━━━━━━━━━━━━━━━━━━━━━━━━━━━━━╇━━━━━━━━━━━━━━━━━┩\n",
       "│ lstm_2 (\u001b[38;5;33mLSTM\u001b[0m)                        │ (\u001b[38;5;45mNone\u001b[0m, \u001b[38;5;34m10\u001b[0m, \u001b[38;5;34m64\u001b[0m)              │          \u001b[38;5;34m18,176\u001b[0m │\n",
       "├──────────────────────────────────────┼─────────────────────────────┼─────────────────┤\n",
       "│ dropout_2 (\u001b[38;5;33mDropout\u001b[0m)                  │ (\u001b[38;5;45mNone\u001b[0m, \u001b[38;5;34m10\u001b[0m, \u001b[38;5;34m64\u001b[0m)              │               \u001b[38;5;34m0\u001b[0m │\n",
       "├──────────────────────────────────────┼─────────────────────────────┼─────────────────┤\n",
       "│ lstm_3 (\u001b[38;5;33mLSTM\u001b[0m)                        │ (\u001b[38;5;45mNone\u001b[0m, \u001b[38;5;34m50\u001b[0m)                  │          \u001b[38;5;34m23,000\u001b[0m │\n",
       "├──────────────────────────────────────┼─────────────────────────────┼─────────────────┤\n",
       "│ dropout_3 (\u001b[38;5;33mDropout\u001b[0m)                  │ (\u001b[38;5;45mNone\u001b[0m, \u001b[38;5;34m50\u001b[0m)                  │               \u001b[38;5;34m0\u001b[0m │\n",
       "├──────────────────────────────────────┼─────────────────────────────┼─────────────────┤\n",
       "│ dense_1 (\u001b[38;5;33mDense\u001b[0m)                      │ (\u001b[38;5;45mNone\u001b[0m, \u001b[38;5;34m6\u001b[0m)                   │             \u001b[38;5;34m306\u001b[0m │\n",
       "└──────────────────────────────────────┴─────────────────────────────┴─────────────────┘\n"
      ]
     },
     "metadata": {},
     "output_type": "display_data"
    },
    {
     "data": {
      "text/html": [
       "<pre style=\"white-space:pre;overflow-x:auto;line-height:normal;font-family:Menlo,'DejaVu Sans Mono',consolas,'Courier New',monospace\"><span style=\"font-weight: bold\"> Total params: </span><span style=\"color: #00af00; text-decoration-color: #00af00\">41,482</span> (162.04 KB)\n",
       "</pre>\n"
      ],
      "text/plain": [
       "\u001b[1m Total params: \u001b[0m\u001b[38;5;34m41,482\u001b[0m (162.04 KB)\n"
      ]
     },
     "metadata": {},
     "output_type": "display_data"
    },
    {
     "data": {
      "text/html": [
       "<pre style=\"white-space:pre;overflow-x:auto;line-height:normal;font-family:Menlo,'DejaVu Sans Mono',consolas,'Courier New',monospace\"><span style=\"font-weight: bold\"> Trainable params: </span><span style=\"color: #00af00; text-decoration-color: #00af00\">41,482</span> (162.04 KB)\n",
       "</pre>\n"
      ],
      "text/plain": [
       "\u001b[1m Trainable params: \u001b[0m\u001b[38;5;34m41,482\u001b[0m (162.04 KB)\n"
      ]
     },
     "metadata": {},
     "output_type": "display_data"
    },
    {
     "data": {
      "text/html": [
       "<pre style=\"white-space:pre;overflow-x:auto;line-height:normal;font-family:Menlo,'DejaVu Sans Mono',consolas,'Courier New',monospace\"><span style=\"font-weight: bold\"> Non-trainable params: </span><span style=\"color: #00af00; text-decoration-color: #00af00\">0</span> (0.00 B)\n",
       "</pre>\n"
      ],
      "text/plain": [
       "\u001b[1m Non-trainable params: \u001b[0m\u001b[38;5;34m0\u001b[0m (0.00 B)\n"
      ]
     },
     "metadata": {},
     "output_type": "display_data"
    }
   ],
   "source": [
    "# Création du modèle LSTM\n",
    "model = Sequential()\n",
    "\n",
    "# Première couche LSTM\n",
    "model.add(LSTM(units=64, return_sequences=True, input_shape=(X_train.shape[1], X_train.shape[2])))\n",
    "model.add(Dropout(0.2))\n",
    "\n",
    "# Deuxième couche LSTM\n",
    "model.add(LSTM(units=50, return_sequences=False))\n",
    "model.add(Dropout(0.2))\n",
    "\n",
    "# Couche de sortie dense (une sortie par valeur prédite)\n",
    "model.add(Dense(units=X_train.shape[2]))\n",
    "\n",
    "# Compilation du modèle\n",
    "model.compile(optimizer='adam', loss='mean_squared_error')\n",
    "\n",
    "# Résumé du modèle\n",
    "model.summary()"
   ]
  },
  {
   "cell_type": "markdown",
   "id": "a7530bd5-4cdd-44b2-ba74-b1f77877f2ca",
   "metadata": {},
   "source": [
    "## Modèle Séquentiel (Sequential) :\n",
    "Le modèle est créé en utilisant l'API Sequential de Keras, qui permet d'empiler les couches les unes après les autres. C'est un choix simple et approprié pour ce type de modèle où les couches sont linéaires.\n",
    "## 2. Première couche LSTM \n",
    "**LSTM** : La première couche est une couche LSTM (Long Short-Term Memory) avec 64 unités (ou neurones). Le LSTM est particulièrement efficace pour capturer les relations temporelles dans les séquences de données.\n",
    "\n",
    "return_sequences=True : Cela indique que cette couche LSTM renvoie les séquences complètes à chaque étape, plutôt que juste la dernière sortie. Comme vous avez une deuxième couche LSTM, vous avez besoin que la sortie de cette couche soit une séquence pour la prochaine couche.\n",
    "\n",
    "input_shape=(X_train.shape[1], X_train.shape[2]) :\n",
    "\n",
    "**X_train.shape[1]** correspond à la longueur de la séquence (ici 10).\n",
    "**X_train.shape[2]** correspond au nombre de caractéristiques (ici 6 capteurs).\n",
    "Cela signifie que la couche LSTM attend des séquences de 10 pas de temps avec 6 caractéristiques à chaque pas.\n",
    "\n",
    "\n",
    "**Dropout** est une technique de régularisation qui aide à éviter le surapprentissage (overfitting) en désactivant aléatoirement 20 % des neurones pendant l'entraînement (indiqué par 0.2). Cela force le modèle à être plus robuste et moins dépendant d'un sous-ensemble particulier de neurones.\n",
    "## La deuxième couche LSTM a 50 unités (ou neurones).\n",
    "return_sequences=False : Cela signifie que cette couche LSTM ne renverra que la dernière sortie, pas la séquence entière, car c'est la dernière couche récurrente de votre réseau. Elle est conçue pour condenser l'information des séquences passées en une seule représentation, que vous utiliserez pour la prédiction.\n",
    "\n",
    "## Couche de sortie Dense \n",
    "Dense est une couche entièrement connectée (couche classique de réseau de neurones).\n",
    "units=X_train.shape[2] signifie que la couche de sortie aura 6 unités, ce qui correspond au nombre de capteurs (température, pH, etc.). Cela signifie que pour chaque séquence en entrée, le modèle prédira 6 valeurs (une pour chaque capteur).\n",
    "\n",
    "## Optimizer : \n",
    "L'optimiseur utilisé est Adam, qui est un algorithme d'optimisation efficace et populaire pour l'entraînement de réseaux de neurones.\n",
    "Loss (fonction de perte) : La fonction de perte choisie est mean_squared_error (erreur quadratique moyenne), ce qui est standard pour des tâches de régression où l'objectif est de minimiser la différence entre les valeurs prédites et les valeurs réelles\n",
    "\n",
    "## **Interprétation des résultats** :\n",
    "LSTM (64 unités) : Cette couche a une sortie de forme (None, 10, 64), ce qui signifie que pour chaque séquence de 10 pas de temps, il y a 64 unités activées. Le nombre de paramètres dans cette couche est 18 176.\n",
    "\n",
    "Paramètres LSTM : Ce nombre de paramètres est calculé comme suit :\n",
    "Paramètres = (64 * (64 + 6 + 1)) * 4 = 18,176 (où 64 est le nombre d'unités, 6 est le nombre de caractéristiques d'entrée, et 1 est pour le biais).\n",
    "LSTM (50 unités) : La deuxième couche LSTM a une sortie de forme (None, 50), ce qui signifie que pour chaque séquence d'entrée, il ne reste que 50 unités activées. Le nombre de paramètres ici est 23 000.\n",
    "\n",
    "Paramètres LSTM : Calculé comme : (50 * (50 + 64 + 1)) * 4 = 23 000.\n",
    "Dense : La couche Dense a 6 unités, correspondant à la prédiction de 6 valeurs (une pour chaque capteur). Le nombre de paramètres est 306, calculé comme : (50 * 6) + 6 = 306 (où 50 est le nombre d'unités en entrée et 6 est le nombre de neurones de sortie, plus le biais).\n",
    "\n"
   ]
  },
  {
   "cell_type": "markdown",
   "id": "1a7c30a0-6261-4170-b41f-fbed2fcd636b",
   "metadata": {},
   "source": [
    "# Étape 3 : Entraînement du modèle\n",
    "Nous allons entraîner le modèle en définissant un certain nombre d'époques et la taille du batch. Nous utilisons les données d'entraînement pour ajuster le modèle."
   ]
  },
  {
   "cell_type": "code",
   "execution_count": 40,
   "id": "1678aca1-c12a-403e-9d24-21c64d16c293",
   "metadata": {},
   "outputs": [
    {
     "name": "stdout",
     "output_type": "stream",
     "text": [
      "Epoch 1/30\n",
      "\u001b[1m125/125\u001b[0m \u001b[32m━━━━━━━━━━━━━━━━━━━━\u001b[0m\u001b[37m\u001b[0m \u001b[1m7s\u001b[0m 24ms/step - loss: 0.0274 - val_loss: 0.0032\n",
      "Epoch 2/30\n",
      "\u001b[1m125/125\u001b[0m \u001b[32m━━━━━━━━━━━━━━━━━━━━\u001b[0m\u001b[37m\u001b[0m \u001b[1m2s\u001b[0m 16ms/step - loss: 0.0060 - val_loss: 0.0031\n",
      "Epoch 3/30\n",
      "\u001b[1m125/125\u001b[0m \u001b[32m━━━━━━━━━━━━━━━━━━━━\u001b[0m\u001b[37m\u001b[0m \u001b[1m2s\u001b[0m 15ms/step - loss: 0.0053 - val_loss: 0.0031\n",
      "Epoch 4/30\n",
      "\u001b[1m125/125\u001b[0m \u001b[32m━━━━━━━━━━━━━━━━━━━━\u001b[0m\u001b[37m\u001b[0m \u001b[1m2s\u001b[0m 14ms/step - loss: 0.0048 - val_loss: 0.0032\n",
      "Epoch 5/30\n",
      "\u001b[1m125/125\u001b[0m \u001b[32m━━━━━━━━━━━━━━━━━━━━\u001b[0m\u001b[37m\u001b[0m \u001b[1m3s\u001b[0m 20ms/step - loss: 0.0044 - val_loss: 0.0032\n",
      "Epoch 6/30\n",
      "\u001b[1m125/125\u001b[0m \u001b[32m━━━━━━━━━━━━━━━━━━━━\u001b[0m\u001b[37m\u001b[0m \u001b[1m3s\u001b[0m 22ms/step - loss: 0.0041 - val_loss: 0.0032\n",
      "Epoch 7/30\n",
      "\u001b[1m125/125\u001b[0m \u001b[32m━━━━━━━━━━━━━━━━━━━━\u001b[0m\u001b[37m\u001b[0m \u001b[1m4s\u001b[0m 15ms/step - loss: 0.0041 - val_loss: 0.0031\n",
      "Epoch 8/30\n",
      "\u001b[1m125/125\u001b[0m \u001b[32m━━━━━━━━━━━━━━━━━━━━\u001b[0m\u001b[37m\u001b[0m \u001b[1m3s\u001b[0m 20ms/step - loss: 0.0039 - val_loss: 0.0032\n",
      "Epoch 9/30\n",
      "\u001b[1m125/125\u001b[0m \u001b[32m━━━━━━━━━━━━━━━━━━━━\u001b[0m\u001b[37m\u001b[0m \u001b[1m2s\u001b[0m 16ms/step - loss: 0.0038 - val_loss: 0.0031\n",
      "Epoch 10/30\n",
      "\u001b[1m125/125\u001b[0m \u001b[32m━━━━━━━━━━━━━━━━━━━━\u001b[0m\u001b[37m\u001b[0m \u001b[1m3s\u001b[0m 17ms/step - loss: 0.0037 - val_loss: 0.0031\n",
      "Epoch 11/30\n",
      "\u001b[1m125/125\u001b[0m \u001b[32m━━━━━━━━━━━━━━━━━━━━\u001b[0m\u001b[37m\u001b[0m \u001b[1m2s\u001b[0m 17ms/step - loss: 0.0038 - val_loss: 0.0031\n",
      "Epoch 12/30\n",
      "\u001b[1m125/125\u001b[0m \u001b[32m━━━━━━━━━━━━━━━━━━━━\u001b[0m\u001b[37m\u001b[0m \u001b[1m2s\u001b[0m 16ms/step - loss: 0.0037 - val_loss: 0.0031\n",
      "Epoch 13/30\n",
      "\u001b[1m125/125\u001b[0m \u001b[32m━━━━━━━━━━━━━━━━━━━━\u001b[0m\u001b[37m\u001b[0m \u001b[1m2s\u001b[0m 15ms/step - loss: 0.0035 - val_loss: 0.0032\n",
      "Epoch 14/30\n",
      "\u001b[1m125/125\u001b[0m \u001b[32m━━━━━━━━━━━━━━━━━━━━\u001b[0m\u001b[37m\u001b[0m \u001b[1m2s\u001b[0m 16ms/step - loss: 0.0034 - val_loss: 0.0031\n",
      "Epoch 15/30\n",
      "\u001b[1m125/125\u001b[0m \u001b[32m━━━━━━━━━━━━━━━━━━━━\u001b[0m\u001b[37m\u001b[0m \u001b[1m2s\u001b[0m 15ms/step - loss: 0.0035 - val_loss: 0.0032\n",
      "Epoch 16/30\n",
      "\u001b[1m125/125\u001b[0m \u001b[32m━━━━━━━━━━━━━━━━━━━━\u001b[0m\u001b[37m\u001b[0m \u001b[1m2s\u001b[0m 15ms/step - loss: 0.0036 - val_loss: 0.0031\n",
      "Epoch 17/30\n",
      "\u001b[1m125/125\u001b[0m \u001b[32m━━━━━━━━━━━━━━━━━━━━\u001b[0m\u001b[37m\u001b[0m \u001b[1m2s\u001b[0m 16ms/step - loss: 0.0034 - val_loss: 0.0031\n",
      "Epoch 18/30\n",
      "\u001b[1m125/125\u001b[0m \u001b[32m━━━━━━━━━━━━━━━━━━━━\u001b[0m\u001b[37m\u001b[0m \u001b[1m2s\u001b[0m 15ms/step - loss: 0.0034 - val_loss: 0.0031\n",
      "Epoch 19/30\n",
      "\u001b[1m125/125\u001b[0m \u001b[32m━━━━━━━━━━━━━━━━━━━━\u001b[0m\u001b[37m\u001b[0m \u001b[1m2s\u001b[0m 16ms/step - loss: 0.0033 - val_loss: 0.0031\n",
      "Epoch 20/30\n",
      "\u001b[1m125/125\u001b[0m \u001b[32m━━━━━━━━━━━━━━━━━━━━\u001b[0m\u001b[37m\u001b[0m \u001b[1m2s\u001b[0m 16ms/step - loss: 0.0033 - val_loss: 0.0031\n",
      "Epoch 21/30\n",
      "\u001b[1m125/125\u001b[0m \u001b[32m━━━━━━━━━━━━━━━━━━━━\u001b[0m\u001b[37m\u001b[0m \u001b[1m2s\u001b[0m 15ms/step - loss: 0.0033 - val_loss: 0.0031\n",
      "Epoch 22/30\n",
      "\u001b[1m125/125\u001b[0m \u001b[32m━━━━━━━━━━━━━━━━━━━━\u001b[0m\u001b[37m\u001b[0m \u001b[1m2s\u001b[0m 19ms/step - loss: 0.0033 - val_loss: 0.0031\n",
      "Epoch 23/30\n",
      "\u001b[1m125/125\u001b[0m \u001b[32m━━━━━━━━━━━━━━━━━━━━\u001b[0m\u001b[37m\u001b[0m \u001b[1m2s\u001b[0m 16ms/step - loss: 0.0034 - val_loss: 0.0031\n",
      "Epoch 24/30\n",
      "\u001b[1m125/125\u001b[0m \u001b[32m━━━━━━━━━━━━━━━━━━━━\u001b[0m\u001b[37m\u001b[0m \u001b[1m2s\u001b[0m 18ms/step - loss: 0.0034 - val_loss: 0.0031\n",
      "Epoch 25/30\n",
      "\u001b[1m125/125\u001b[0m \u001b[32m━━━━━━━━━━━━━━━━━━━━\u001b[0m\u001b[37m\u001b[0m \u001b[1m3s\u001b[0m 22ms/step - loss: 0.0033 - val_loss: 0.0031\n",
      "Epoch 26/30\n",
      "\u001b[1m125/125\u001b[0m \u001b[32m━━━━━━━━━━━━━━━━━━━━\u001b[0m\u001b[37m\u001b[0m \u001b[1m3s\u001b[0m 25ms/step - loss: 0.0033 - val_loss: 0.0031\n",
      "Epoch 27/30\n",
      "\u001b[1m125/125\u001b[0m \u001b[32m━━━━━━━━━━━━━━━━━━━━\u001b[0m\u001b[37m\u001b[0m \u001b[1m2s\u001b[0m 16ms/step - loss: 0.0033 - val_loss: 0.0031\n",
      "Epoch 28/30\n",
      "\u001b[1m125/125\u001b[0m \u001b[32m━━━━━━━━━━━━━━━━━━━━\u001b[0m\u001b[37m\u001b[0m \u001b[1m2s\u001b[0m 16ms/step - loss: 0.0033 - val_loss: 0.0031\n",
      "Epoch 29/30\n",
      "\u001b[1m125/125\u001b[0m \u001b[32m━━━━━━━━━━━━━━━━━━━━\u001b[0m\u001b[37m\u001b[0m \u001b[1m2s\u001b[0m 17ms/step - loss: 0.0033 - val_loss: 0.0031\n",
      "Epoch 30/30\n",
      "\u001b[1m125/125\u001b[0m \u001b[32m━━━━━━━━━━━━━━━━━━━━\u001b[0m\u001b[37m\u001b[0m \u001b[1m3s\u001b[0m 23ms/step - loss: 0.0032 - val_loss: 0.0031\n"
     ]
    },
    {
     "data": {
      "image/png": "[encoded data removed]",
      "text/plain": [
       "<Figure size 640x480 with 1 Axes>"
      ]
     },
     "metadata": {},
     "output_type": "display_data"
    }
   ],
   "source": [
    "# Entraînement du modèle\n",
    "history = model.fit(X_train, y_train, epochs=30, batch_size=64, validation_data=(X_test, y_test))\n",
    "\n",
    "# Visualisation de la courbe de perte\n",
    "plt.plot(history.history['loss'], label='train')\n",
    "plt.plot(history.history['val_loss'], label='test')\n",
    "plt.legend()\n",
    "plt.show()\n"
   ]
  },
  {
   "cell_type": "markdown",
   "id": "1f5031c2-2d1d-4b9e-b87d-1efcf7f84b29",
   "metadata": {},
   "source": [
    "# Étape 4 : Évaluation des performances du modèle\n",
    "Après l'entraînement, nous devons évaluer les performances du modèle sur les données de test et voir comment il se comporte."
   ]
  },
  {
   "cell_type": "code",
   "execution_count": 41,
   "id": "951822c0-5318-4190-8b63-d30730d391d4",
   "metadata": {},
   "outputs": [
    {
     "name": "stdout",
     "output_type": "stream",
     "text": [
      "\u001b[1m63/63\u001b[0m \u001b[32m━━━━━━━━━━━━━━━━━━━━\u001b[0m\u001b[37m\u001b[0m \u001b[1m3s\u001b[0m 24ms/step\n",
      "[ 97.50389753  40.35493838  16.45815839 110.55901855   6.21630054\n",
      "  26.76398033  40.92188288  41.92531173  81.99732476   6.46053152]\n"
     ]
    }
   ],
   "source": [
    "# Faire des prédictions sur l'ensemble de test\n",
    "y_pred = model.predict(X_test)\n",
    "\n",
    "# Inverser la normalisation pour interpréter les résultats\n",
    "y_test_rescaled = scaler.inverse_transform(y_test)\n",
    "y_pred_rescaled = scaler.inverse_transform(y_pred)\n",
    "\n",
    "# Calculer la différence (erreur) entre les vraies valeurs et les valeurs prédites\n",
    "errors = np.mean(np.abs(y_test_rescaled - y_pred_rescaled), axis=1)\n",
    "\n",
    "# Afficher les erreurs pour détecter les anomalies\n",
    "print(errors[:10])"
   ]
  },
  {
   "cell_type": "markdown",
   "id": "f0403ecc-488d-468a-bbb5-d616a947da13",
   "metadata": {},
   "source": [
    "# Étape 5 : Détection des anomalies\n",
    "Nous allons définir un seuil pour identifier les anomalies en fonction de l'erreur de prédiction."
   ]
  },
  {
   "cell_type": "code",
   "execution_count": 46,
   "id": "d77cc90d-5527-435e-bcc7-5c4ca5a60748",
   "metadata": {},
   "outputs": [
    {
     "name": "stdout",
     "output_type": "stream",
     "text": [
      "Nombre d'anomalies détectées: 100 sur 1998\n"
     ]
    }
   ],
   "source": [
    "# Définir un seuil d'erreur (par exemple, tout ce qui est au-dessus de 95e percentile est une anomalie)\n",
    "threshold = np.percentile(errors, 95)\n",
    "\n",
    "# Marquer comme anomalies les prédictions qui dépassent le seuil\n",
    "anomalies = errors > threshold\n",
    "\n",
    "# Afficher le pourcentage d'anomalies\n",
    "print(f\"Nombre d'anomalies détectées: {np.sum(anomalies)} sur {len(errors)}\")"
   ]
  },
  {
   "cell_type": "code",
   "execution_count": 50,
   "id": "ef377ed7-58c3-4cfc-ba7e-def8449fb498",
   "metadata": {},
   "outputs": [
    {
     "name": "stderr",
     "output_type": "stream",
     "text": [
      "WARNING:absl:You are saving your model as an HDF5 file via `model.save()` or `keras.saving.save_model(model)`. This file format is considered legacy. We recommend using instead the native Keras format, e.g. `model.save('my_model.keras')` or `keras.saving.save_model(model, 'my_model.keras')`. \n"
     ]
    },
    {
     "data": {
      "text/plain": [
       "['scaler.pkl']"
      ]
     },
     "execution_count": 50,
     "metadata": {},
     "output_type": "execute_result"
    }
   ],
   "source": [
    "# Sauvegarder le modèle\n",
    "model.save('lstm_anomaly_model.h5')\n",
    "\n",
    "# Sauvegarder le scaler\n",
    "import joblib\n",
    "joblib.dump(scaler, 'scaler.pkl')"
   ]
  },
  {
   "cell_type": "code",
   "execution_count": null,
   "id": "f82d63a6-15f8-4da8-9611-76036af0c260",
   "metadata": {},
   "outputs": [],
   "source": []
  }
 ],
 "metadata": {
  "kernelspec": {
   "display_name": "Python 3 (ipykernel)",
   "language": "python",
   "name": "python3"
  },
  "language_info": {
   "codemirror_mode": {
    "name": "ipython",
    "version": 3
   },
   "file_extension": ".py",
   "mimetype": "text/x-python",
   "name": "python",
   "nbconvert_exporter": "python",
   "pygments_lexer": "ipython3",
   "version": "3.12.4"
  }
 },
 "nbformat": 4,
 "nbformat_minor": 5
}
